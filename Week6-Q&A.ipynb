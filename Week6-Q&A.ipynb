{
 "cells": [
  {
   "cell_type": "code",
   "execution_count": 1,
   "id": "f945a6fb",
   "metadata": {},
   "outputs": [],
   "source": [
    "import numpy as np\n",
    "import pandas as pd\n",
    "import matplotlib.pyplot as plt\n",
    "import seaborn as sns\n",
    "import warnings\n",
    "warnings.filterwarnings(\"ignore\")"
   ]
  },
  {
   "cell_type": "code",
   "execution_count": 3,
   "id": "c50fe7cb",
   "metadata": {},
   "outputs": [
    {
     "data": {
      "text/html": [
       "<div>\n",
       "<style scoped>\n",
       "    .dataframe tbody tr th:only-of-type {\n",
       "        vertical-align: middle;\n",
       "    }\n",
       "\n",
       "    .dataframe tbody tr th {\n",
       "        vertical-align: top;\n",
       "    }\n",
       "\n",
       "    .dataframe thead th {\n",
       "        text-align: right;\n",
       "    }\n",
       "</style>\n",
       "<table border=\"1\" class=\"dataframe\">\n",
       "  <thead>\n",
       "    <tr style=\"text-align: right;\">\n",
       "      <th></th>\n",
       "      <th>country</th>\n",
       "      <th>Region</th>\n",
       "      <th>Surface area (km2)</th>\n",
       "      <th>Population in thousands (2017)</th>\n",
       "      <th>GDP per capita (current US$)</th>\n",
       "      <th>Agricultural production index</th>\n",
       "      <th>International trade: Imports (million US$)</th>\n",
       "    </tr>\n",
       "  </thead>\n",
       "  <tbody>\n",
       "    <tr>\n",
       "      <th>0</th>\n",
       "      <td>Afghanistan</td>\n",
       "      <td>SouthernAsia</td>\n",
       "      <td>652864</td>\n",
       "      <td>35530</td>\n",
       "      <td>623.2</td>\n",
       "      <td>125</td>\n",
       "      <td>3568</td>\n",
       "    </tr>\n",
       "    <tr>\n",
       "      <th>1</th>\n",
       "      <td>Albania</td>\n",
       "      <td>SouthernEurope</td>\n",
       "      <td>28748</td>\n",
       "      <td>2930</td>\n",
       "      <td>3984.2</td>\n",
       "      <td>134</td>\n",
       "      <td>4669</td>\n",
       "    </tr>\n",
       "    <tr>\n",
       "      <th>2</th>\n",
       "      <td>Algeria</td>\n",
       "      <td>NorthernAfrica</td>\n",
       "      <td>2381741</td>\n",
       "      <td>41318</td>\n",
       "      <td>4154.1</td>\n",
       "      <td>160</td>\n",
       "      <td>47091</td>\n",
       "    </tr>\n",
       "    <tr>\n",
       "      <th>3</th>\n",
       "      <td>Angola</td>\n",
       "      <td>MiddleAfrica</td>\n",
       "      <td>1246700</td>\n",
       "      <td>29784</td>\n",
       "      <td>4714.1</td>\n",
       "      <td>175</td>\n",
       "      <td>8790</td>\n",
       "    </tr>\n",
       "    <tr>\n",
       "      <th>4</th>\n",
       "      <td>Antigua and Barbuda</td>\n",
       "      <td>Caribbean</td>\n",
       "      <td>442</td>\n",
       "      <td>102</td>\n",
       "      <td>14764.5</td>\n",
       "      <td>88</td>\n",
       "      <td>491</td>\n",
       "    </tr>\n",
       "    <tr>\n",
       "      <th>...</th>\n",
       "      <td>...</td>\n",
       "      <td>...</td>\n",
       "      <td>...</td>\n",
       "      <td>...</td>\n",
       "      <td>...</td>\n",
       "      <td>...</td>\n",
       "      <td>...</td>\n",
       "    </tr>\n",
       "    <tr>\n",
       "      <th>191</th>\n",
       "      <td>Venezuela (Bolivarian Republic of)</td>\n",
       "      <td>SouthAmerica</td>\n",
       "      <td>912050</td>\n",
       "      <td>31977</td>\n",
       "      <td>11068.9</td>\n",
       "      <td>118</td>\n",
       "      <td>16324</td>\n",
       "    </tr>\n",
       "    <tr>\n",
       "      <th>192</th>\n",
       "      <td>Viet Nam</td>\n",
       "      <td>South-easternAsia</td>\n",
       "      <td>330967</td>\n",
       "      <td>95541</td>\n",
       "      <td>2067.9</td>\n",
       "      <td>136</td>\n",
       "      <td>174111</td>\n",
       "    </tr>\n",
       "    <tr>\n",
       "      <th>193</th>\n",
       "      <td>Yemen</td>\n",
       "      <td>WesternAsia</td>\n",
       "      <td>527968</td>\n",
       "      <td>28250</td>\n",
       "      <td>1106.4</td>\n",
       "      <td>136</td>\n",
       "      <td>6861</td>\n",
       "    </tr>\n",
       "    <tr>\n",
       "      <th>194</th>\n",
       "      <td>Zambia</td>\n",
       "      <td>EasternAfrica</td>\n",
       "      <td>752612</td>\n",
       "      <td>17094</td>\n",
       "      <td>1311.1</td>\n",
       "      <td>179</td>\n",
       "      <td>7442</td>\n",
       "    </tr>\n",
       "    <tr>\n",
       "      <th>195</th>\n",
       "      <td>Zimbabwe</td>\n",
       "      <td>EasternAfrica</td>\n",
       "      <td>390757</td>\n",
       "      <td>16530</td>\n",
       "      <td>890.4</td>\n",
       "      <td>99</td>\n",
       "      <td>5212</td>\n",
       "    </tr>\n",
       "  </tbody>\n",
       "</table>\n",
       "<p>196 rows × 7 columns</p>\n",
       "</div>"
      ],
      "text/plain": [
       "                                country             Region  \\\n",
       "0                           Afghanistan       SouthernAsia   \n",
       "1                               Albania     SouthernEurope   \n",
       "2                               Algeria     NorthernAfrica   \n",
       "3                                Angola       MiddleAfrica   \n",
       "4                   Antigua and Barbuda          Caribbean   \n",
       "..                                  ...                ...   \n",
       "191  Venezuela (Bolivarian Republic of)       SouthAmerica   \n",
       "192                            Viet Nam  South-easternAsia   \n",
       "193                               Yemen        WesternAsia   \n",
       "194                              Zambia      EasternAfrica   \n",
       "195                            Zimbabwe      EasternAfrica   \n",
       "\n",
       "     Surface area (km2)  Population in thousands (2017)  \\\n",
       "0                652864                           35530   \n",
       "1                 28748                            2930   \n",
       "2               2381741                           41318   \n",
       "3               1246700                           29784   \n",
       "4                   442                             102   \n",
       "..                  ...                             ...   \n",
       "191              912050                           31977   \n",
       "192              330967                           95541   \n",
       "193              527968                           28250   \n",
       "194              752612                           17094   \n",
       "195              390757                           16530   \n",
       "\n",
       "     GDP per capita (current US$)  Agricultural production index   \\\n",
       "0                           623.2                             125   \n",
       "1                          3984.2                             134   \n",
       "2                          4154.1                             160   \n",
       "3                          4714.1                             175   \n",
       "4                         14764.5                              88   \n",
       "..                            ...                             ...   \n",
       "191                       11068.9                             118   \n",
       "192                        2067.9                             136   \n",
       "193                        1106.4                             136   \n",
       "194                        1311.1                             179   \n",
       "195                         890.4                              99   \n",
       "\n",
       "     International trade: Imports (million US$)  \n",
       "0                                          3568  \n",
       "1                                          4669  \n",
       "2                                         47091  \n",
       "3                                          8790  \n",
       "4                                           491  \n",
       "..                                          ...  \n",
       "191                                       16324  \n",
       "192                                      174111  \n",
       "193                                        6861  \n",
       "194                                        7442  \n",
       "195                                        5212  \n",
       "\n",
       "[196 rows x 7 columns]"
      ]
     },
     "execution_count": 3,
     "metadata": {},
     "output_type": "execute_result"
    }
   ],
   "source": [
    "dt = pd.read_csv('Dataset_w6.xlsx - Data.csv')\n",
    "dt"
   ]
  },
  {
   "cell_type": "markdown",
   "id": "4bb429dc",
   "metadata": {},
   "source": [
    "# 1. Find out how many countries are there in the dataset."
   ]
  },
  {
   "cell_type": "code",
   "execution_count": 4,
   "id": "d8437f7d",
   "metadata": {},
   "outputs": [
    {
     "name": "stdout",
     "output_type": "stream",
     "text": [
      "Total No. of countries in the dataset : 196\n"
     ]
    }
   ],
   "source": [
    "dt1=data['country']\n",
    "print('Total No. of countries in the dataset :',dt1.count())"
   ]
  },
  {
   "cell_type": "markdown",
   "id": "ce27b81b",
   "metadata": {},
   "source": [
    "## 2. Examine the data by using visualizations."
   ]
  },
  {
   "cell_type": "code",
   "execution_count": 12,
   "id": "7dc64960",
   "metadata": {},
   "outputs": [
    {
     "data": {
      "text/plain": [
       "Text(0, 0.5, 'International trade: Imports (million US$)')"
      ]
     },
     "execution_count": 12,
     "metadata": {},
     "output_type": "execute_result"
    },
    {
     "data": {
      "image/png": "[encoded data removed]",
      "text/plain": [
       "<Figure size 720x576 with 1 Axes>"
      ]
     },
     "metadata": {
      "needs_background": "light"
     },
     "output_type": "display_data"
    }
   ],
   "source": [
    "plt.figure(figsize=(10,8))\n",
    "plt.scatter(dt['GDP per capita (current US$)'],dt['International trade: Imports (million US$)'],s=30, c='red',alpha=0.5)\n",
    "plt.title('Plot of GDP per capita VS International trade: Imports ',fontsize=16)\n",
    "plt.xlabel('GDP per capita (current US$)')\n",
    "plt.ylabel('International trade: Imports (million US$)')"
   ]
  },
  {
   "cell_type": "code",
   "execution_count": 13,
   "id": "c92073e2",
   "metadata": {},
   "outputs": [
    {
     "data": {
      "text/plain": [
       "Text(0, 0.5, 'Agricultural production index ')"
      ]
     },
     "execution_count": 13,
     "metadata": {},
     "output_type": "execute_result"
    },
    {
     "data": {
      "image/png": "[encoded data removed]",
      "text/plain": [
       "<Figure size 720x576 with 1 Axes>"
      ]
     },
     "metadata": {
      "needs_background": "light"
     },
     "output_type": "display_data"
    }
   ],
   "source": [
    "plt.figure(figsize=(10,8))\n",
    "plt.scatter(dt['GDP per capita (current US$)'],dt['Agricultural production index '],s=30, c='green',alpha=0.5)\n",
    "plt.title('Plot of GDP per capita VS Agricultural production index ',fontsize=15)\n",
    "plt.xlabel('GDP per capita (current US$)')\n",
    "plt.ylabel('Agricultural production index ')"
   ]
  },
  {
   "cell_type": "code",
   "execution_count": 22,
   "id": "fb103f24",
   "metadata": {},
   "outputs": [
    {
     "data": {
      "text/html": [
       "<div>\n",
       "<style scoped>\n",
       "    .dataframe tbody tr th:only-of-type {\n",
       "        vertical-align: middle;\n",
       "    }\n",
       "\n",
       "    .dataframe tbody tr th {\n",
       "        vertical-align: top;\n",
       "    }\n",
       "\n",
       "    .dataframe thead th {\n",
       "        text-align: right;\n",
       "    }\n",
       "</style>\n",
       "<table border=\"1\" class=\"dataframe\">\n",
       "  <thead>\n",
       "    <tr style=\"text-align: right;\">\n",
       "      <th></th>\n",
       "      <th>country</th>\n",
       "      <th>Region</th>\n",
       "      <th>International trade: Imports (million US$)</th>\n",
       "    </tr>\n",
       "  </thead>\n",
       "  <tbody>\n",
       "    <tr>\n",
       "      <th>187</th>\n",
       "      <td>United States of America</td>\n",
       "      <td>NorthernAmerica</td>\n",
       "      <td>2249661</td>\n",
       "    </tr>\n",
       "    <tr>\n",
       "      <th>39</th>\n",
       "      <td>China</td>\n",
       "      <td>EasternAsia</td>\n",
       "      <td>1588696</td>\n",
       "    </tr>\n",
       "    <tr>\n",
       "      <th>69</th>\n",
       "      <td>Germany</td>\n",
       "      <td>WesternEurope</td>\n",
       "      <td>1060672</td>\n",
       "    </tr>\n",
       "    <tr>\n",
       "      <th>185</th>\n",
       "      <td>United Kingdom</td>\n",
       "      <td>NorthernEurope</td>\n",
       "      <td>635570</td>\n",
       "    </tr>\n",
       "    <tr>\n",
       "      <th>90</th>\n",
       "      <td>Japan</td>\n",
       "      <td>EasternAsia</td>\n",
       "      <td>606924</td>\n",
       "    </tr>\n",
       "    <tr>\n",
       "      <th>64</th>\n",
       "      <td>France</td>\n",
       "      <td>WesternEurope</td>\n",
       "      <td>560555</td>\n",
       "    </tr>\n",
       "    <tr>\n",
       "      <th>37</th>\n",
       "      <td>China, Hong Kong SAR</td>\n",
       "      <td>EasternAsia</td>\n",
       "      <td>547124</td>\n",
       "    </tr>\n",
       "    <tr>\n",
       "      <th>124</th>\n",
       "      <td>Netherlands</td>\n",
       "      <td>WesternEurope</td>\n",
       "      <td>420969</td>\n",
       "    </tr>\n",
       "    <tr>\n",
       "      <th>142</th>\n",
       "      <td>Republic of Korea</td>\n",
       "      <td>EasternAsia</td>\n",
       "      <td>406182</td>\n",
       "    </tr>\n",
       "    <tr>\n",
       "      <th>88</th>\n",
       "      <td>Italy</td>\n",
       "      <td>SouthernEurope</td>\n",
       "      <td>404578</td>\n",
       "    </tr>\n",
       "    <tr>\n",
       "      <th>32</th>\n",
       "      <td>Canada</td>\n",
       "      <td>NorthernAmerica</td>\n",
       "      <td>402954</td>\n",
       "    </tr>\n",
       "    <tr>\n",
       "      <th>114</th>\n",
       "      <td>Mexico</td>\n",
       "      <td>CentralAmerica</td>\n",
       "      <td>387064</td>\n",
       "    </tr>\n",
       "    <tr>\n",
       "      <th>15</th>\n",
       "      <td>Belgium</td>\n",
       "      <td>WesternEurope</td>\n",
       "      <td>372713</td>\n",
       "    </tr>\n",
       "    <tr>\n",
       "      <th>82</th>\n",
       "      <td>India</td>\n",
       "      <td>SouthernAsia</td>\n",
       "      <td>356705</td>\n",
       "    </tr>\n",
       "    <tr>\n",
       "      <th>163</th>\n",
       "      <td>Spain</td>\n",
       "      <td>SouthernEurope</td>\n",
       "      <td>302539</td>\n",
       "    </tr>\n",
       "    <tr>\n",
       "      <th>157</th>\n",
       "      <td>Singapore</td>\n",
       "      <td>South-easternAsia</td>\n",
       "      <td>283009</td>\n",
       "    </tr>\n",
       "    <tr>\n",
       "      <th>169</th>\n",
       "      <td>Switzerland</td>\n",
       "      <td>WesternEurope</td>\n",
       "      <td>269157</td>\n",
       "    </tr>\n",
       "    <tr>\n",
       "      <th>184</th>\n",
       "      <td>United Arab Emirates</td>\n",
       "      <td>WesternAsia</td>\n",
       "      <td>201908</td>\n",
       "    </tr>\n",
       "    <tr>\n",
       "      <th>179</th>\n",
       "      <td>Turkey</td>\n",
       "      <td>WesternAsia</td>\n",
       "      <td>198602</td>\n",
       "    </tr>\n",
       "    <tr>\n",
       "      <th>172</th>\n",
       "      <td>Thailand</td>\n",
       "      <td>South-easternAsia</td>\n",
       "      <td>195666</td>\n",
       "    </tr>\n",
       "    <tr>\n",
       "      <th>7</th>\n",
       "      <td>Australia</td>\n",
       "      <td>Oceania</td>\n",
       "      <td>189406</td>\n",
       "    </tr>\n",
       "    <tr>\n",
       "      <th>139</th>\n",
       "      <td>Poland</td>\n",
       "      <td>EasternEurope</td>\n",
       "      <td>188518</td>\n",
       "    </tr>\n",
       "    <tr>\n",
       "      <th>145</th>\n",
       "      <td>Russian Federation</td>\n",
       "      <td>EasternEurope</td>\n",
       "      <td>182257</td>\n",
       "    </tr>\n",
       "    <tr>\n",
       "      <th>192</th>\n",
       "      <td>Viet Nam</td>\n",
       "      <td>South-easternAsia</td>\n",
       "      <td>174111</td>\n",
       "    </tr>\n",
       "    <tr>\n",
       "      <th>107</th>\n",
       "      <td>Malaysia</td>\n",
       "      <td>South-easternAsia</td>\n",
       "      <td>168375</td>\n",
       "    </tr>\n",
       "    <tr>\n",
       "      <th>8</th>\n",
       "      <td>Austria</td>\n",
       "      <td>WesternEurope</td>\n",
       "      <td>149299</td>\n",
       "    </tr>\n",
       "    <tr>\n",
       "      <th>168</th>\n",
       "      <td>Sweden</td>\n",
       "      <td>NorthernEurope</td>\n",
       "      <td>140838</td>\n",
       "    </tr>\n",
       "    <tr>\n",
       "      <th>48</th>\n",
       "      <td>Czechia</td>\n",
       "      <td>EasternEurope</td>\n",
       "      <td>140316</td>\n",
       "    </tr>\n",
       "    <tr>\n",
       "      <th>23</th>\n",
       "      <td>Brazil</td>\n",
       "      <td>SouthAmerica</td>\n",
       "      <td>137552</td>\n",
       "    </tr>\n",
       "    <tr>\n",
       "      <th>152</th>\n",
       "      <td>Saudi Arabia</td>\n",
       "      <td>WesternAsia</td>\n",
       "      <td>135904</td>\n",
       "    </tr>\n",
       "    <tr>\n",
       "      <th>83</th>\n",
       "      <td>Indonesia</td>\n",
       "      <td>South-easternAsia</td>\n",
       "      <td>135653</td>\n",
       "    </tr>\n",
       "    <tr>\n",
       "      <th>80</th>\n",
       "      <td>Hungary</td>\n",
       "      <td>EasternEurope</td>\n",
       "      <td>92044</td>\n",
       "    </tr>\n",
       "    <tr>\n",
       "      <th>138</th>\n",
       "      <td>Philippines</td>\n",
       "      <td>South-easternAsia</td>\n",
       "      <td>85909</td>\n",
       "    </tr>\n",
       "    <tr>\n",
       "      <th>51</th>\n",
       "      <td>Denmark</td>\n",
       "      <td>NorthernEurope</td>\n",
       "      <td>85133</td>\n",
       "    </tr>\n",
       "  </tbody>\n",
       "</table>\n",
       "</div>"
      ],
      "text/plain": [
       "                      country             Region  \\\n",
       "187  United States of America    NorthernAmerica   \n",
       "39                      China        EasternAsia   \n",
       "69                    Germany      WesternEurope   \n",
       "185            United Kingdom     NorthernEurope   \n",
       "90                      Japan        EasternAsia   \n",
       "64                     France      WesternEurope   \n",
       "37       China, Hong Kong SAR        EasternAsia   \n",
       "124               Netherlands      WesternEurope   \n",
       "142         Republic of Korea        EasternAsia   \n",
       "88                      Italy     SouthernEurope   \n",
       "32                     Canada    NorthernAmerica   \n",
       "114                    Mexico     CentralAmerica   \n",
       "15                    Belgium      WesternEurope   \n",
       "82                      India       SouthernAsia   \n",
       "163                     Spain     SouthernEurope   \n",
       "157                 Singapore  South-easternAsia   \n",
       "169               Switzerland      WesternEurope   \n",
       "184      United Arab Emirates        WesternAsia   \n",
       "179                    Turkey        WesternAsia   \n",
       "172                  Thailand  South-easternAsia   \n",
       "7                   Australia            Oceania   \n",
       "139                    Poland      EasternEurope   \n",
       "145        Russian Federation      EasternEurope   \n",
       "192                  Viet Nam  South-easternAsia   \n",
       "107                  Malaysia  South-easternAsia   \n",
       "8                     Austria      WesternEurope   \n",
       "168                    Sweden     NorthernEurope   \n",
       "48                    Czechia      EasternEurope   \n",
       "23                     Brazil       SouthAmerica   \n",
       "152              Saudi Arabia        WesternAsia   \n",
       "83                  Indonesia  South-easternAsia   \n",
       "80                    Hungary      EasternEurope   \n",
       "138               Philippines  South-easternAsia   \n",
       "51                    Denmark     NorthernEurope   \n",
       "\n",
       "     International trade: Imports (million US$)  \n",
       "187                                     2249661  \n",
       "39                                      1588696  \n",
       "69                                      1060672  \n",
       "185                                      635570  \n",
       "90                                       606924  \n",
       "64                                       560555  \n",
       "37                                       547124  \n",
       "124                                      420969  \n",
       "142                                      406182  \n",
       "88                                       404578  \n",
       "32                                       402954  \n",
       "114                                      387064  \n",
       "15                                       372713  \n",
       "82                                       356705  \n",
       "163                                      302539  \n",
       "157                                      283009  \n",
       "169                                      269157  \n",
       "184                                      201908  \n",
       "179                                      198602  \n",
       "172                                      195666  \n",
       "7                                        189406  \n",
       "139                                      188518  \n",
       "145                                      182257  \n",
       "192                                      174111  \n",
       "107                                      168375  \n",
       "8                                        149299  \n",
       "168                                      140838  \n",
       "48                                       140316  \n",
       "23                                       137552  \n",
       "152                                      135904  \n",
       "83                                       135653  \n",
       "80                                        92044  \n",
       "138                                       85909  \n",
       "51                                        85133  "
      ]
     },
     "execution_count": 22,
     "metadata": {},
     "output_type": "execute_result"
    }
   ],
   "source": [
    "dt2=dt.sort_values(by='International trade: Imports (million US$)',ascending=False)\n",
    "\n",
    "bimp=dt2[['country','Region','International trade: Imports (million US$)']]\n",
    "bimp1=dt2['International trade: Imports (million US$)'].mean()\n",
    "bimp2= bimp[bimp['International trade: Imports (million US$)']>=bimp1]\n",
    "bimp2"
   ]
  },
  {
   "cell_type": "code",
   "execution_count": 23,
   "id": "6ce0981d",
   "metadata": {},
   "outputs": [
    {
     "data": {
      "image/png": "[encoded data removed]",
      "text/plain": [
       "<Figure size 1008x504 with 1 Axes>"
      ]
     },
     "metadata": {
      "needs_background": "light"
     },
     "output_type": "display_data"
    }
   ],
   "source": [
    "plt.figure(figsize=(14,7))\n",
    "sns.countplot(x='Region',data=bimp2)\n",
    "plt.title('Count of Countries in a Region above the average International trade: Imports')\n",
    "plt.xticks(rotation=90)\n",
    "plt.show()"
   ]
  },
  {
   "cell_type": "markdown",
   "id": "f7de6932",
   "metadata": {},
   "source": [
    "## 3. Find out how many countries with respect to the region are available in the dataset"
   ]
  },
  {
   "cell_type": "code",
   "execution_count": 25,
   "id": "013e72be",
   "metadata": {},
   "outputs": [
    {
     "data": {
      "text/plain": [
       "WesternAsia          18\n",
       "EasternAfrica        17\n",
       "Caribbean            16\n",
       "WesternAfrica        15\n",
       "SouthAmerica         12\n",
       "SouthernEurope       12\n",
       "South-easternAsia    11\n",
       "EasternEurope        10\n",
       "NorthernEurope       10\n",
       "SouthernAsia          9\n",
       "MiddleAfrica          9\n",
       "CentralAmerica        8\n",
       "WesternEurope         7\n",
       "EasternAsia           7\n",
       "SouthernAfrica        5\n",
       "Polynesia             5\n",
       "NorthernAfrica        5\n",
       "Melanesia             5\n",
       "CentralAsia           5\n",
       "NorthernAmerica       4\n",
       "Micronesia            4\n",
       "Oceania               2\n",
       "Name: Region, dtype: int64"
      ]
     },
     "execution_count": 25,
     "metadata": {},
     "output_type": "execute_result"
    }
   ],
   "source": [
    "dt3=dt['Region'].value_counts()\n",
    "dt3"
   ]
  },
  {
   "cell_type": "markdown",
   "id": "690bf530",
   "metadata": {},
   "source": [
    "# 4. On average which region has the highest"
   ]
  },
  {
   "cell_type": "markdown",
   "id": "6d25dd2b",
   "metadata": {},
   "source": [
    "## a. GDP per capita (current US)\n",
    "## b. International trade: Imports (million US)"
   ]
  },
  {
   "cell_type": "code",
   "execution_count": 26,
   "id": "18e6e432",
   "metadata": {},
   "outputs": [
    {
     "data": {
      "text/plain": [
       "Region\n",
       "NorthernAmerica    57659.0\n",
       "Name: GDP per capita (current US$), dtype: float64"
      ]
     },
     "execution_count": 26,
     "metadata": {},
     "output_type": "execute_result"
    }
   ],
   "source": [
    "highest_gdp_region=data.groupby('Region')['GDP per capita (current US$)'].mean()\n",
    "higheast_gdp_region.nlargest(1)"
   ]
  },
  {
   "cell_type": "code",
   "execution_count": 27,
   "id": "e9e71c3a",
   "metadata": {},
   "outputs": [
    {
     "data": {
      "text/plain": [
       "Region\n",
       "NorthernAmerica    663552.25\n",
       "Name: International trade: Imports (million US$), dtype: float64"
      ]
     },
     "execution_count": 27,
     "metadata": {},
     "output_type": "execute_result"
    }
   ],
   "source": [
    "highest_imp_region=data.groupby('Region')['International trade: Imports (million US$)'].mean()\n",
    "highest_imp_region.nlargest(1)"
   ]
  },
  {
   "cell_type": "markdown",
   "id": "026fb7e8",
   "metadata": {},
   "source": [
    "## 5. Find out which region has more consistent with respect to GDP per capita (current US$)"
   ]
  },
  {
   "cell_type": "code",
   "execution_count": 31,
   "id": "8eeeaebe",
   "metadata": {},
   "outputs": [
    {
     "data": {
      "text/plain": [
       "Region\n",
       "WesternAfrica    815.095399\n",
       "Name: GDP per capita (current US$), dtype: float64"
      ]
     },
     "execution_count": 31,
     "metadata": {},
     "output_type": "execute_result"
    }
   ],
   "source": [
    "d=data.groupby('Region')['GDP per capita (current US$)'].std()\n",
    "d.nsmallest(1)"
   ]
  },
  {
   "cell_type": "code",
   "execution_count": null,
   "id": "c22e03f5",
   "metadata": {},
   "outputs": [],
   "source": []
  }
 ],
 "metadata": {
  "kernelspec": {
   "display_name": "Python 3 (ipykernel)",
   "language": "python",
   "name": "python3"
  },
  "language_info": {
   "codemirror_mode": {
    "name": "ipython",
    "version": 3
   },
   "file_extension": ".py",
   "mimetype": "text/x-python",
   "name": "python",
   "nbconvert_exporter": "python",
   "pygments_lexer": "ipython3",
   "version": "3.9.7"
  }
 },
 "nbformat": 4,
 "nbformat_minor": 5
}
